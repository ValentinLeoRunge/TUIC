{
 "cells": [
  {
   "cell_type": "markdown",
   "id": "447acf55",
   "metadata": {},
   "source": [
    "# Main"
   ]
  },
  {
   "cell_type": "code",
   "execution_count": null,
   "id": "c4ac6541",
   "metadata": {},
   "outputs": [
    {
     "name": "stderr",
     "output_type": "stream",
     "text": [
      "/Users/felixvogt/Library/CloudStorage/OneDrive-TUInvestmentClube.V/04_MSMIF/TUIC-PortfolioModel/data_preparation/prepare.py:27: FutureWarning: YF.download() has changed argument auto_adjust default to True\n",
      "  df = yf.download(ticker, start = start, end = today, interval ='1d')\n",
      "[*********************100%***********************]  1 of 1 completed\n",
      "/Users/felixvogt/Library/CloudStorage/OneDrive-TUInvestmentClube.V/04_MSMIF/TUIC-PortfolioModel/data_preparation/prepare.py:27: FutureWarning: YF.download() has changed argument auto_adjust default to True\n",
      "  df = yf.download(ticker, start = start, end = today, interval ='1d')\n",
      "[*********************100%***********************]  1 of 1 completed\n",
      "/Users/felixvogt/Library/CloudStorage/OneDrive-TUInvestmentClube.V/04_MSMIF/TUIC-PortfolioModel/data_preparation/prepare.py:27: FutureWarning: YF.download() has changed argument auto_adjust default to True\n",
      "  df = yf.download(ticker, start = start, end = today, interval ='1d')\n",
      "[*********************100%***********************]  1 of 1 completed\n",
      "/Users/felixvogt/Library/CloudStorage/OneDrive-TUInvestmentClube.V/04_MSMIF/TUIC-PortfolioModel/data_preparation/prepare.py:64: FutureWarning: YF.download() has changed argument auto_adjust default to True\n",
      "  df = yf.download(ticker, start='2010-01-01', end=today, interval='1d')\n",
      "[*********************100%***********************]  1 of 1 completed\n",
      "\n",
      "1 Failed download:\n",
      "['SMEA.DE']: YFTzMissingError('possibly delisted; no timezone found')\n",
      "/Users/felixvogt/Library/CloudStorage/OneDrive-TUInvestmentClube.V/04_MSMIF/TUIC-PortfolioModel/data_preparation/prepare.py:64: FutureWarning: YF.download() has changed argument auto_adjust default to True\n",
      "  df = yf.download(ticker, start='2010-01-01', end=today, interval='1d')\n",
      "[*********************100%***********************]  1 of 1 completed\n",
      "\n",
      "1 Failed download:\n",
      "['XEMD.PA']: YFTzMissingError('possibly delisted; no timezone found')\n",
      "/Users/felixvogt/Library/CloudStorage/OneDrive-TUInvestmentClube.V/04_MSMIF/TUIC-PortfolioModel/data_preparation/prepare.py:64: FutureWarning: YF.download() has changed argument auto_adjust default to True\n",
      "  df = yf.download(ticker, start='2010-01-01', end=today, interval='1d')\n",
      "[*********************100%***********************]  1 of 1 completed\n",
      "/Users/felixvogt/Library/CloudStorage/OneDrive-TUInvestmentClube.V/04_MSMIF/TUIC-PortfolioModel/data_preparation/prepare.py:64: FutureWarning: YF.download() has changed argument auto_adjust default to True\n",
      "  df = yf.download(ticker, start='2010-01-01', end=today, interval='1d')\n",
      "[*********************100%***********************]  1 of 1 completed\n",
      "/Users/felixvogt/Library/CloudStorage/OneDrive-TUInvestmentClube.V/04_MSMIF/TUIC-PortfolioModel/data_preparation/prepare.py:64: FutureWarning: YF.download() has changed argument auto_adjust default to True\n",
      "  df = yf.download(ticker, start='2010-01-01', end=today, interval='1d')\n",
      "[*********************100%***********************]  1 of 1 completed"
     ]
    },
    {
     "name": "stdout",
     "output_type": "stream",
     "text": [
      "No data found for benchmark SMEA.DE. Please check the ticker symbol or the date range.\n",
      "No data found for benchmark XEMD.PA. Please check the ticker symbol or the date range.\n"
     ]
    },
    {
     "name": "stderr",
     "output_type": "stream",
     "text": [
      "\n"
     ]
    }
   ],
   "source": [
    "import os\n",
    "import pandas as pd\n",
    "import numpy as np\n",
    "import yfinance as yf\n",
    "from datetime import datetime, timedelta\n",
    "\n",
    "from data_preparation import prepare\n",
    "\n",
    "absolute_path = os.getcwd()\n",
    "\n",
    "# Refresh portfolio investments\n",
    "input_file = prepare.load_inputs(absolute_path)\n",
    "portfolio_investments = prepare.load_portfolio_investments(absolute_path, input_file)\n",
    "\n",
    "# Get benchmarks\n",
    "# TODO: MSCI Europe Small und MidCap Download not working!\n",
    "benchmarks_ticker = {\n",
    "    'SMEA.DE': 'MSCI_Europe_Small_Cap',\n",
    "    'XEMD.PA': 'MSCI_Europe_Mid_Cap',\n",
    "    'EXW1.DE': 'Eurostoxx_50',\n",
    "    'EXSA.DE': 'Eurostoxx_600',\n",
    "    'SWDA.L': 'MSCI_World'\n",
    "}\n",
    "\n",
    "benchmarks_df = prepare.load_benchmarks(absolute_path, benchmarks_ticker)\n"
   ]
  },
  {
   "cell_type": "code",
   "execution_count": null,
   "id": "fe23d1e0",
   "metadata": {},
   "outputs": [],
   "source": []
  },
  {
   "cell_type": "code",
   "execution_count": null,
   "id": "70fc0bd9",
   "metadata": {},
   "outputs": [],
   "source": []
  }
 ],
 "metadata": {
  "kernelspec": {
   "display_name": "Python 3",
   "language": "python",
   "name": "python3"
  },
  "language_info": {
   "codemirror_mode": {
    "name": "ipython",
    "version": 3
   },
   "file_extension": ".py",
   "mimetype": "text/x-python",
   "name": "python",
   "nbconvert_exporter": "python",
   "pygments_lexer": "ipython3",
   "version": "3.12.10"
  }
 },
 "nbformat": 4,
 "nbformat_minor": 5
}
