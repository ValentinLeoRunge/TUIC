{
 "cells": [
  {
   "cell_type": "markdown",
   "id": "447acf55",
   "metadata": {},
   "source": [
    "# Main"
   ]
  },
  {
   "cell_type": "code",
   "execution_count": 1,
   "id": "c4ac6541",
   "metadata": {},
   "outputs": [
    {
     "name": "stderr",
     "output_type": "stream",
     "text": [
      "/Users/felixvogt/Library/CloudStorage/OneDrive-TUInvestmentClube.V/04_MSMIF/TUIC-PortfolioModel/data_preparation/prepare.py:27: FutureWarning: YF.download() has changed argument auto_adjust default to True\n",
      "  df = yf.download(ticker, start = start, end = today, interval ='1d')\n",
      "[*********************100%***********************]  1 of 1 completed\n",
      "/Users/felixvogt/Library/CloudStorage/OneDrive-TUInvestmentClube.V/04_MSMIF/TUIC-PortfolioModel/data_preparation/prepare.py:27: FutureWarning: YF.download() has changed argument auto_adjust default to True\n",
      "  df = yf.download(ticker, start = start, end = today, interval ='1d')\n",
      "[*********************100%***********************]  1 of 1 completed\n",
      "/Users/felixvogt/Library/CloudStorage/OneDrive-TUInvestmentClube.V/04_MSMIF/TUIC-PortfolioModel/data_preparation/prepare.py:27: FutureWarning: YF.download() has changed argument auto_adjust default to True\n",
      "  df = yf.download(ticker, start = start, end = today, interval ='1d')\n",
      "[*********************100%***********************]  1 of 1 completed"
     ]
    },
    {
     "name": "stdout",
     "output_type": "stream",
     "text": [
      "<bound method DataFrame.info of Price       date      close       high        low       open    volume  \\\n",
      "0     2023-06-01  63.049999  63.610001  61.830002  62.410000  16686200   \n",
      "1     2023-06-02  63.959999  64.394997  63.562000  63.740002  16423200   \n",
      "2     2023-06-05  64.510002  64.980003  63.505001  64.070000  13498300   \n",
      "3     2023-06-06  65.019997  65.175003  64.230003  64.430000  13039200   \n",
      "4     2023-06-07  64.040001  65.320000  63.549999  65.250000  15511900   \n",
      "..           ...        ...        ...        ...        ...       ...   \n",
      "505   2025-06-06  73.430000  73.620003  72.639999  73.264999   7240200   \n",
      "506   2025-06-09  73.550003  73.970001  72.949997  73.699997   6166500   \n",
      "507   2025-06-10  74.760002  75.269997  73.320000  73.580002   9510700   \n",
      "508   2025-06-11  74.610001  75.209999  73.930000  75.099998   7706100   \n",
      "509   2025-06-12  74.809998  75.306999  74.000000  74.019997   8638700   \n",
      "\n",
      "Price  shares_owned  daily_return  cumulative_return  MSMIF_position  \n",
      "0                12           NaN                NaN          756.60  \n",
      "1                12      0.014433           0.014433          767.52  \n",
      "2                12      0.008599           0.023156          774.12  \n",
      "3                12      0.007906           0.031245          780.24  \n",
      "4                12     -0.015072           0.015702          768.48  \n",
      "..              ...           ...                ...             ...  \n",
      "505              12      0.013247           0.164631          881.16  \n",
      "506              12      0.001634           0.166535          882.60  \n",
      "507              12      0.016451           0.185726          897.12  \n",
      "508              12     -0.002006           0.183347          895.32  \n",
      "509              12      0.002681           0.186519          897.72  \n",
      "\n",
      "[510 rows x 10 columns]>\n"
     ]
    },
    {
     "name": "stderr",
     "output_type": "stream",
     "text": [
      "\n"
     ]
    }
   ],
   "source": [
    "import os\n",
    "import pandas as pd\n",
    "import numpy as np\n",
    "import yfinance as yf\n",
    "from datetime import datetime, timedelta\n",
    "\n",
    "from data_preparation import prepare\n",
    "\n",
    "absolute_path = os.getcwd()\n",
    "\n",
    "input_file = prepare.load_inputs(absolute_path)\n",
    "\n",
    "portfolio_investments = prepare.load_portfolio_investments(absolute_path, input_file)\n",
    "\n",
    "#print(portfolio_investments)\n",
    "print(portfolio_investments.get('PYPL').info)\n",
    "\n"
   ]
  },
  {
   "cell_type": "code",
   "execution_count": null,
   "id": "fe23d1e0",
   "metadata": {},
   "outputs": [],
   "source": []
  },
  {
   "cell_type": "code",
   "execution_count": null,
   "id": "70fc0bd9",
   "metadata": {},
   "outputs": [],
   "source": []
  }
 ],
 "metadata": {
  "kernelspec": {
   "display_name": "Python 3",
   "language": "python",
   "name": "python3"
  },
  "language_info": {
   "codemirror_mode": {
    "name": "ipython",
    "version": 3
   },
   "file_extension": ".py",
   "mimetype": "text/x-python",
   "name": "python",
   "nbconvert_exporter": "python",
   "pygments_lexer": "ipython3",
   "version": "3.12.10"
  }
 },
 "nbformat": 4,
 "nbformat_minor": 5
}
