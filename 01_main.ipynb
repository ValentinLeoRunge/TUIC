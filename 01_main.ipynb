{
 "cells": [
  {
   "cell_type": "markdown",
   "id": "447acf55",
   "metadata": {},
   "source": [
    "# Main"
   ]
  },
  {
   "cell_type": "code",
   "id": "c4ac6541",
   "metadata": {
    "ExecuteTime": {
     "end_time": "2025-10-12T17:26:15.511366Z",
     "start_time": "2025-10-12T17:26:13.910987Z"
    }
   },
   "source": [
    "# Next steps\n",
    "# TODO: Fix yahoo finance portfoio investmnets price to align with actual portfolio investments amounts\n",
    "# TODO: Calculate single stock alpha and beta against chosen benchmark to compare with online sources\n",
    "# TODO: Implement multiple equity investments and divestments in model\n",
    "# TODO: Construct artificial MSCI Europe Small Cap and Mid Cap indices using available tickers\n",
    "\n",
    "\n",
    "\n",
    "import os\n",
    "import pandas as pd\n",
    "import numpy as np\n",
    "import yfinance as yf\n",
    "from datetime import datetime, timedelta\n",
    "\n",
    "from data_preparation import prepare\n",
    "from portfolio_model import generate_portfolio\n",
    "from portfolio_model.analytics import alpha_beta\n",
    "from scipy.stats import linregress\n",
    "\n",
    "from portfolio_model.analytics import risk_analysis\n",
    "\n",
    "\n",
    "absolute_path = os.getcwd()\n",
    "\n",
    "# Refresh portfolio investments\n",
    "input_file = prepare.load_inputs(absolute_path)\n",
    "portfolio_investments_dict = prepare.load_portfolio_investments(absolute_path, input_file)\n",
    "\n",
    "# Get benchmarks\n",
    "model_start_date = datetime(1990, 1, 1)\n",
    "\n",
    "benchmarks_ticker = {\n",
    "    # 'SMEA.DE': 'MSCI_Europe_Small_Cap', # Ticker not working\n",
    "    # 'XEMD.PA': 'MSCI_Europe_Mid_Cap', # Ticker not working\n",
    "    'IEUS': 'MSCI_Europe_Small_Cap',\n",
    "    'EUMD.L': 'MSCI_Europe_Mid_Cap',\n",
    "    'IWVL.L': 'MSCI_World_Value_Factor',  # iShares MSCI Europe Small Cap ETF (US)\n",
    "    'EXW1.DE': 'Eurostoxx_50',\n",
    "    'EXSA.DE': 'Eurostoxx_600',\n",
    "    'SWDA.L': 'MSCI_World',\n",
    "    'FEZ': 'Eurostoxx_50',          # SPDR EURO STOXX 50 ETF (US)\n",
    "    'IEUR': 'Eurostoxx_600',        # iShares Europe ETF (US)\n",
    "    'URTH': 'MSCI_World'            # iShares MSCI World ETF (US)\n",
    "}\n",
    "\n",
    "benchmarks_dict = prepare.load_benchmarks(absolute_path, benchmarks_ticker, model_start_date)\n",
    "\n",
    "# Aggregate portfolio investments to portfolio level\n",
    "portfolio_df = generate_portfolio.aggregate_portfolio_investments(portfolio_investments_dict, absolute_path)\n",
    "\n",
    "# Calculate portfolio alpha and beta against chosen benchmark\n",
    "chosen_benchmark = 'EXSA.DE'\n",
    "\n",
    "for ticker, benchmark_name in benchmarks_ticker.items():\n",
    "    portfolio_alpha, portfolio_beta = alpha_beta.calculate_portfolio_alpha_beta(portfolio_df, benchmarks_dict, ticker)\n",
    "    annualized_alpha = (1+portfolio_alpha)**252 - 1  # Assuming daily returns\n",
    "    print(f\"{benchmark_name}: Annualized Alpha: {annualized_alpha}, Portfolio Beta: {portfolio_beta}\")\n",
    "\n",
    "sharpe_ratio = risk_analysis.calculate_sharpe_ratio(portfolio_df, 0.02, 252)\n",
    "print(f\"Sharpe Ratio:{sharpe_ratio}\")"
   ],
   "outputs": [
    {
     "name": "stderr",
     "output_type": "stream",
     "text": [
      "[*********************100%***********************]  1 of 1 completed\n",
      "[*********************100%***********************]  1 of 1 completed\n",
      "[*********************100%***********************]  1 of 1 completed\n",
      "[*********************100%***********************]  1 of 1 completed\n",
      "[*********************100%***********************]  1 of 1 completed\n",
      "[*********************100%***********************]  1 of 1 completed\n",
      "[*********************100%***********************]  1 of 1 completed\n",
      "[*********************100%***********************]  1 of 1 completed\n",
      "[*********************100%***********************]  1 of 1 completed\n",
      "[*********************100%***********************]  1 of 1 completed\n",
      "[*********************100%***********************]  1 of 1 completed\n",
      "[*********************100%***********************]  1 of 1 completed\n",
      "[*********************100%***********************]  1 of 1 completed\n",
      "[*********************100%***********************]  1 of 1 completed\n",
      "[*********************100%***********************]  1 of 1 completed\n",
      "[*********************100%***********************]  1 of 1 completed\n",
      "[*********************100%***********************]  1 of 1 completed\n",
      "[*********************100%***********************]  1 of 1 completed\n",
      "[*********************100%***********************]  1 of 1 completed\n",
      "[*********************100%***********************]  1 of 1 completed\n",
      "[*********************100%***********************]  1 of 1 completed\n",
      "[*********************100%***********************]  1 of 1 completed\n",
      "[*********************100%***********************]  1 of 1 completed\n",
      "[*********************100%***********************]  1 of 1 completed\n",
      "[*********************100%***********************]  1 of 1 completed\n",
      "[*********************100%***********************]  1 of 1 completed\n",
      "[*********************100%***********************]  1 of 1 completed\n",
      "[*********************100%***********************]  1 of 1 completed\n"
     ]
    },
    {
     "name": "stdout",
     "output_type": "stream",
     "text": [
      "MSCI_Europe_Small_Cap: Annualized Alpha: 0.06899246915195967, Portfolio Beta: 0.49228597496567905\n",
      "MSCI_Europe_Mid_Cap: Annualized Alpha: 0.05441719217842578, Portfolio Beta: 0.7961631858249285\n",
      "MSCI_World_Value_Factor: Annualized Alpha: 0.04750952259747243, Portfolio Beta: 0.7378872548712497\n",
      "Eurostoxx_50: Annualized Alpha: 0.05279736152832126, Portfolio Beta: 0.6959408979428249\n",
      "Eurostoxx_600: Annualized Alpha: 0.05461717630053187, Portfolio Beta: 0.825224566401518\n",
      "MSCI_World: Annualized Alpha: 0.07811357078052028, Portfolio Beta: 0.34947789276806007\n",
      "Eurostoxx_50: Annualized Alpha: 0.047489833246811664, Portfolio Beta: 0.49638688428959565\n",
      "Eurostoxx_600: Annualized Alpha: 0.05047258373392105, Portfolio Beta: 0.569658382323635\n",
      "MSCI_World: Annualized Alpha: 0.037960282511842136, Portfolio Beta: 0.5255116587009403\n",
      "Sharpe Ratio:0.4493341703851443\n"
     ]
    }
   ],
   "execution_count": 8
  },
  {
   "cell_type": "code",
   "execution_count": null,
   "id": "fe23d1e0",
   "metadata": {},
   "outputs": [],
   "source": []
  },
  {
   "cell_type": "code",
   "execution_count": null,
   "id": "70fc0bd9",
   "metadata": {},
   "outputs": [],
   "source": []
  }
 ],
 "metadata": {
  "kernelspec": {
   "display_name": ".venv",
   "language": "python",
   "name": "python3"
  },
  "language_info": {
   "codemirror_mode": {
    "name": "ipython",
    "version": 3
   },
   "file_extension": ".py",
   "mimetype": "text/x-python",
   "name": "python",
   "nbconvert_exporter": "python",
   "pygments_lexer": "ipython3",
   "version": "3.11.9"
  }
 },
 "nbformat": 4,
 "nbformat_minor": 5
}
