{
 "cells": [
  {
   "cell_type": "markdown",
   "id": "447acf55",
   "metadata": {},
   "source": [
    "# Main"
   ]
  },
  {
   "cell_type": "code",
   "execution_count": 1,
   "id": "c4ac6541",
   "metadata": {},
   "outputs": [
    {
     "name": "stderr",
     "output_type": "stream",
     "text": [
      "[*********************100%***********************]  1 of 1 completed\n",
      "[*********************100%***********************]  1 of 1 completed\n",
      "[*********************100%***********************]  1 of 1 completed\n",
      "[*********************100%***********************]  1 of 1 completed\n",
      "[*********************100%***********************]  1 of 1 completed\n",
      "[*********************100%***********************]  1 of 1 completed\n",
      "[*********************100%***********************]  1 of 1 completed\n",
      "[*********************100%***********************]  1 of 1 completed\n",
      "[*********************100%***********************]  1 of 1 completed"
     ]
    },
    {
     "name": "stdout",
     "output_type": "stream",
     "text": [
      "Portfolio Alpha: 0.0006974509765691261, Portfolio Beta: 0.7458812438344264\n"
     ]
    },
    {
     "name": "stderr",
     "output_type": "stream",
     "text": [
      "\n"
     ]
    }
   ],
   "source": [
    "import os\n",
    "import pandas as pd\n",
    "import numpy as np\n",
    "import yfinance as yf\n",
    "from datetime import datetime, timedelta\n",
    "\n",
    "from data_preparation import prepare\n",
    "from portfolio_model import generate_portfolio\n",
    "from portfolio_model import analysis\n",
    "from scipy.stats import linregress\n",
    "\n",
    "\n",
    "absolute_path = os.getcwd()\n",
    "\n",
    "# Refresh portfolio investments\n",
    "input_file = prepare.load_inputs(absolute_path)\n",
    "portfolio_investments_dict = prepare.load_portfolio_investments(absolute_path, input_file)\n",
    "\n",
    "# Get benchmarks\n",
    "model_start_date = datetime(1990, 1, 1)\n",
    "\n",
    "benchmarks_ticker = {\n",
    "    # 'SMEA.DE': 'MSCI_Europe_Small_Cap', # Ticker not working\n",
    "    # 'XEMD.PA': 'MSCI_Europe_Mid_Cap', # Ticker not working\n",
    "    'EXW1.DE': 'Eurostoxx_50',\n",
    "    'EXSA.DE': 'Eurostoxx_600',\n",
    "    'SWDA.L': 'MSCI_World',\n",
    "    'FEZ': 'Eurostoxx_50',          # SPDR EURO STOXX 50 ETF (US)\n",
    "    'IEUR': 'Eurostoxx_600',        # iShares Europe ETF (US)\n",
    "    'URTH': 'MSCI_World'            # iShares MSCI World ETF (US)\n",
    "}\n",
    "\n",
    "benchmarks_dict = prepare.load_benchmarks(absolute_path, benchmarks_ticker, model_start_date)\n",
    "\n",
    "# Aggregate portfolio investments to portfolio level\n",
    "portfolio_df = generate_portfolio.aggregate_portfolio_investments(portfolio_investments_dict, absolute_path)\n",
    "\n",
    "# Calculate portfolio alpha and beta against chosen benchmark\n",
    "chosen_benchmark = 'EXSA.DE'\n",
    "\n",
    "portfolio_alpha, portfolio_beta = analysis.calculate_portfolio_alpha_beta(portfolio_df, benchmarks_dict, chosen_benchmark)\n",
    "print(f\"Portfolio Alpha: {portfolio_alpha}, Portfolio Beta: {portfolio_beta}\")\n",
    "\n"
   ]
  },
  {
   "cell_type": "code",
   "execution_count": null,
   "id": "fe23d1e0",
   "metadata": {},
   "outputs": [],
   "source": []
  },
  {
   "cell_type": "code",
   "execution_count": null,
   "id": "70fc0bd9",
   "metadata": {},
   "outputs": [],
   "source": []
  }
 ],
 "metadata": {
  "kernelspec": {
   "display_name": ".venv",
   "language": "python",
   "name": "python3"
  },
  "language_info": {
   "codemirror_mode": {
    "name": "ipython",
    "version": 3
   },
   "file_extension": ".py",
   "mimetype": "text/x-python",
   "name": "python",
   "nbconvert_exporter": "python",
   "pygments_lexer": "ipython3",
   "version": "3.11.9"
  }
 },
 "nbformat": 4,
 "nbformat_minor": 5
}
