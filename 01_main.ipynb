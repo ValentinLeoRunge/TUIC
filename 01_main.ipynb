{
 "cells": [
  {
   "cell_type": "markdown",
   "id": "447acf55",
   "metadata": {},
   "source": [
    "# Main"
   ]
  },
  {
   "cell_type": "code",
   "execution_count": 9,
   "id": "c4ac6541",
   "metadata": {},
   "outputs": [
    {
     "name": "stderr",
     "output_type": "stream",
     "text": [
      "[*********************100%***********************]  1 of 1 completed"
     ]
    },
    {
     "name": "stderr",
     "output_type": "stream",
     "text": [
      "\n",
      "[*********************100%***********************]  1 of 1 completed\n",
      "[*********************100%***********************]  1 of 1 completed\n",
      "[*********************100%***********************]  1 of 1 completed\n",
      "[*********************100%***********************]  1 of 1 completed\n",
      "[*********************100%***********************]  1 of 1 completed\n",
      "[*********************100%***********************]  1 of 1 completed\n",
      "[*********************100%***********************]  1 of 1 completed\n",
      "[*********************100%***********************]  1 of 1 completed\n",
      "[*********************100%***********************]  1 of 1 completed\n",
      "[*********************100%***********************]  1 of 1 completed\n",
      "[*********************100%***********************]  1 of 1 completed\n",
      "[*********************100%***********************]  1 of 1 completed\n",
      "[*********************100%***********************]  1 of 1 completed\n",
      "[*********************100%***********************]  1 of 1 completed\n",
      "[*********************100%***********************]  1 of 1 completed\n",
      "[*********************100%***********************]  1 of 1 completed\n",
      "[*********************100%***********************]  1 of 1 completed\n",
      "[*********************100%***********************]  1 of 1 completed\n",
      "[*********************100%***********************]  1 of 1 completed\n",
      "[*********************100%***********************]  1 of 1 completed\n",
      "[*********************100%***********************]  1 of 1 completed\n",
      "[*********************100%***********************]  1 of 1 completed\n",
      "[*********************100%***********************]  1 of 1 completed\n",
      "[*********************100%***********************]  1 of 1 completed\n",
      "[*********************100%***********************]  1 of 1 completed\n",
      "[*********************100%***********************]  1 of 1 completed\n",
      "[*********************100%***********************]  1 of 1 completed\n"
     ]
    },
    {
     "name": "stdout",
     "output_type": "stream",
     "text": [
      "MSCI_Europe_Small_Cap: Annualized Alpha: 0.02172244360426623, Portfolio Beta: 0.48238440224920465\n",
      "MSCI_Europe_Mid_Cap: Annualized Alpha: 0.010756237660298984, Portfolio Beta: 0.8200206519440603\n",
      "MSCI_World_Value_Factor: Annualized Alpha: 0.008275475170406832, Portfolio Beta: 0.7674495524863433\n",
      "Eurostoxx_50: Annualized Alpha: -0.0013632246103828516, Portfolio Beta: 0.7188946887352047\n",
      "Eurostoxx_600: Annualized Alpha: 0.0012763286461892065, Portfolio Beta: 0.8522424184810489\n",
      "MSCI_World: Annualized Alpha: -0.01218555491047546, Portfolio Beta: 0.8040831897045634\n",
      "Eurostoxx_50: Annualized Alpha: 0.002444552051018123, Portfolio Beta: 0.4921875560802905\n",
      "Eurostoxx_600: Annualized Alpha: 0.00519377042703284, Portfolio Beta: 0.5649653237044348\n",
      "MSCI_World: Annualized Alpha: -0.003739089349466429, Portfolio Beta: 0.510921418536501\n"
     ]
    }
   ],
   "source": [
    "# Next steps\n",
    "# TODO: Fix yahoo finance portfoio investmnets price to align with actual portfolio investments amounts\n",
    "# TODO: Calculate single stock alpha and beta against chosen benchmark to compare with online sources\n",
    "# TODO: Implement multiple equity investments and divestments in model\n",
    "# TODO: Construct artificial MSCI Europe Small Cap and Mid Cap indices using available tickers\n",
    "\n",
    "\n",
    "\n",
    "import os\n",
    "import pandas as pd\n",
    "import numpy as np\n",
    "import yfinance as yf\n",
    "from datetime import datetime, timedelta\n",
    "\n",
    "from data_preparation import prepare\n",
    "from portfolio_model import generate_portfolio\n",
    "from portfolio_model import analysis\n",
    "from scipy.stats import linregress\n",
    "\n",
    "\n",
    "absolute_path = os.getcwd()\n",
    "\n",
    "# Refresh portfolio investments\n",
    "input_file = prepare.load_inputs(absolute_path)\n",
    "portfolio_investments_dict = prepare.load_portfolio_investments(absolute_path, input_file)\n",
    "\n",
    "# Get benchmarks\n",
    "model_start_date = datetime(1990, 1, 1)\n",
    "\n",
    "benchmarks_ticker = {\n",
    "    # 'SMEA.DE': 'MSCI_Europe_Small_Cap', # Ticker not working\n",
    "    # 'XEMD.PA': 'MSCI_Europe_Mid_Cap', # Ticker not working\n",
    "    'IEUS': 'MSCI_Europe_Small_Cap',\n",
    "    'EUMD.L': 'MSCI_Europe_Mid_Cap',\n",
    "    'IWVL.L': 'MSCI_World_Value_Factor',  # iShares MSCI Europe Small Cap ETF (US)\n",
    "    'EXW1.DE': 'Eurostoxx_50',\n",
    "    'EXSA.DE': 'Eurostoxx_600',\n",
    "    'SWDA.L': 'MSCI_World',\n",
    "    'FEZ': 'Eurostoxx_50',          # SPDR EURO STOXX 50 ETF (US)\n",
    "    'IEUR': 'Eurostoxx_600',        # iShares Europe ETF (US)\n",
    "    'URTH': 'MSCI_World'            # iShares MSCI World ETF (US)\n",
    "}\n",
    "\n",
    "benchmarks_dict = prepare.load_benchmarks(absolute_path, benchmarks_ticker, model_start_date)\n",
    "\n",
    "# Aggregate portfolio investments to portfolio level\n",
    "portfolio_df = generate_portfolio.aggregate_portfolio_investments(portfolio_investments_dict, absolute_path)\n",
    "\n",
    "# Calculate portfolio alpha and beta against chosen benchmark\n",
    "chosen_benchmark = 'EXSA.DE'\n",
    "\n",
    "for ticker, benchmark_name in benchmarks_ticker.items():\n",
    "    portfolio_alpha, portfolio_beta = analysis.calculate_portfolio_alpha_beta(portfolio_df, benchmarks_dict, ticker)\n",
    "    annualized_alpha = (1+portfolio_alpha)**252 - 1  # Assuming daily returns\n",
    "    print(f\"{benchmark_name}: Annualized Alpha: {annualized_alpha}, Portfolio Beta: {portfolio_beta}\")\n",
    "\n"
   ]
  },
  {
   "cell_type": "code",
   "execution_count": null,
   "id": "fe23d1e0",
   "metadata": {},
   "outputs": [],
   "source": []
  },
  {
   "cell_type": "code",
   "execution_count": null,
   "id": "70fc0bd9",
   "metadata": {},
   "outputs": [],
   "source": []
  }
 ],
 "metadata": {
  "kernelspec": {
   "display_name": ".venv",
   "language": "python",
   "name": "python3"
  },
  "language_info": {
   "codemirror_mode": {
    "name": "ipython",
    "version": 3
   },
   "file_extension": ".py",
   "mimetype": "text/x-python",
   "name": "python",
   "nbconvert_exporter": "python",
   "pygments_lexer": "ipython3",
   "version": "3.11.9"
  }
 },
 "nbformat": 4,
 "nbformat_minor": 5
}
